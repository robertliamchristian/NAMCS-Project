{
 "cells": [
  {
   "cell_type": "code",
   "execution_count": 3,
   "id": "6ac58681",
   "metadata": {
    "collapsed": true
   },
   "outputs": [
    {
     "name": "stdout",
     "output_type": "stream",
     "text": [
      "Collecting pyreadstat\n",
      "  Downloading pyreadstat-1.1.6-cp39-cp39-macosx_10_9_x86_64.whl (577 kB)\n",
      "\u001b[K     |████████████████████████████████| 577 kB 1.9 MB/s eta 0:00:01\n",
      "\u001b[?25hRequirement already satisfied: pandas>=1.2.0 in /Users/Robbie/opt/anaconda3/lib/python3.9/site-packages (from pyreadstat) (1.3.4)\n",
      "Requirement already satisfied: python-dateutil>=2.7.3 in /Users/Robbie/opt/anaconda3/lib/python3.9/site-packages (from pandas>=1.2.0->pyreadstat) (2.8.2)\n",
      "Requirement already satisfied: pytz>=2017.3 in /Users/Robbie/opt/anaconda3/lib/python3.9/site-packages (from pandas>=1.2.0->pyreadstat) (2021.3)\n",
      "Requirement already satisfied: numpy>=1.17.3 in /Users/Robbie/opt/anaconda3/lib/python3.9/site-packages (from pandas>=1.2.0->pyreadstat) (1.20.3)\n",
      "Requirement already satisfied: six>=1.5 in /Users/Robbie/opt/anaconda3/lib/python3.9/site-packages (from python-dateutil>=2.7.3->pandas>=1.2.0->pyreadstat) (1.16.0)\n",
      "Installing collected packages: pyreadstat\n",
      "Successfully installed pyreadstat-1.1.6\n",
      "Note: you may need to restart the kernel to use updated packages.\n"
     ]
    }
   ],
   "source": [
    "pip install pyreadstat"
   ]
  },
  {
   "cell_type": "code",
   "execution_count": 10,
   "id": "393cf7ab",
   "metadata": {},
   "outputs": [],
   "source": [
    "import pyreadstat\n",
    "import pandas as pd"
   ]
  },
  {
   "cell_type": "code",
   "execution_count": 11,
   "id": "8632f6d9",
   "metadata": {},
   "outputs": [],
   "source": [
    "dtafile = 'NAMCS2018-stata.dta'\n",
    "df, meta = pyreadstat.read_dta(dtafile)"
   ]
  },
  {
   "cell_type": "code",
   "execution_count": 12,
   "id": "09a39a2d",
   "metadata": {},
   "outputs": [
    {
     "data": {
      "text/plain": [
       "pandas.core.frame.DataFrame"
      ]
     },
     "execution_count": 12,
     "metadata": {},
     "output_type": "execute_result"
    }
   ],
   "source": [
    "type(df)"
   ]
  },
  {
   "cell_type": "code",
   "execution_count": 13,
   "id": "fad9f198",
   "metadata": {
    "collapsed": true
   },
   "outputs": [
    {
     "name": "stdout",
     "output_type": "stream",
     "text": [
      "      VMONTH  VDAYR  AGE  AGER  AGEDAYS  SEX  PREGNANT  GESTWK  ETHUN  RACEUN  \\\n",
      "0          7      2   69     5       -7    2        -7      -7      2       1   \n",
      "1          7      2   64     4       -7    1        -9      -9      2       1   \n",
      "2          7      2   81     6       -7    1        -9      -9      2       1   \n",
      "3          7      2   66     5       -7    1        -9      -9      2       1   \n",
      "4          7      2   44     3       -7    1        -9      -9      2       1   \n",
      "...      ...    ...  ...   ...      ...  ...       ...     ...    ...     ...   \n",
      "9948       9      4   19     2       -7    1        -9      -9      2       3   \n",
      "9949       9      4   93     6       -7    1        -9      -9      2       1   \n",
      "9950       9      4   32     3       -7    2        -7      -7      2       1   \n",
      "9951       9      4   65     5       -7    1        -9      -9      2       1   \n",
      "9952       9      4   27     3       -7    2        -7      -7     -9      -9   \n",
      "\n",
      "      ...  RX30V3C1  RX30V3C2  RX30V3C3  RX30V3C4   CSTRATM   CPSUM  YEAR  \\\n",
      "0     ...                                          10118102  100001  2018   \n",
      "1     ...                                          10118102  100001  2018   \n",
      "2     ...                                          10118102  100001  2018   \n",
      "3     ...                                          10118102  100001  2018   \n",
      "4     ...                                          10118102  100001  2018   \n",
      "...   ...       ...       ...       ...       ...       ...     ...   ...   \n",
      "9948  ...                                          10418115  100496  2018   \n",
      "9949  ...                                          10418115  100496  2018   \n",
      "9950  ...                                          10418115  100496  2018   \n",
      "9951  ...                                          10418115  100496  2018   \n",
      "9952  ...                                          10418115  100496  2018   \n",
      "\n",
      "      SETTYPE          PATWT      PHYSWT  \n",
      "0           1   26516.679688  222.454575  \n",
      "1           1   26516.679688         NaN  \n",
      "2           1   26516.679688         NaN  \n",
      "3           1   26516.679688         NaN  \n",
      "4           1   26516.679688         NaN  \n",
      "...       ...            ...         ...  \n",
      "9948        1  309659.593750         NaN  \n",
      "9949        1  309659.593750         NaN  \n",
      "9950        1  309659.593750         NaN  \n",
      "9951        1  309659.593750         NaN  \n",
      "9952        1  309659.593750         NaN  \n",
      "\n",
      "[9953 rows x 1038 columns]\n"
     ]
    }
   ],
   "source": [
    "print (df)"
   ]
  },
  {
   "cell_type": "code",
   "execution_count": 90,
   "id": "7071d308",
   "metadata": {},
   "outputs": [
    {
     "data": {
      "text/html": [
       "<div>\n",
       "<style scoped>\n",
       "    .dataframe tbody tr th:only-of-type {\n",
       "        vertical-align: middle;\n",
       "    }\n",
       "\n",
       "    .dataframe tbody tr th {\n",
       "        vertical-align: top;\n",
       "    }\n",
       "\n",
       "    .dataframe thead th {\n",
       "        text-align: right;\n",
       "    }\n",
       "</style>\n",
       "<table border=\"1\" class=\"dataframe\">\n",
       "  <thead>\n",
       "    <tr style=\"text-align: right;\">\n",
       "      <th></th>\n",
       "      <th>PHYS</th>\n",
       "      <th>NPNMW</th>\n",
       "      <th>TIMEMD</th>\n",
       "    </tr>\n",
       "  </thead>\n",
       "  <tbody>\n",
       "    <tr>\n",
       "      <th>600</th>\n",
       "      <td>0</td>\n",
       "      <td>1</td>\n",
       "      <td>0</td>\n",
       "    </tr>\n",
       "    <tr>\n",
       "      <th>602</th>\n",
       "      <td>0</td>\n",
       "      <td>1</td>\n",
       "      <td>0</td>\n",
       "    </tr>\n",
       "    <tr>\n",
       "      <th>1491</th>\n",
       "      <td>0</td>\n",
       "      <td>1</td>\n",
       "      <td>0</td>\n",
       "    </tr>\n",
       "    <tr>\n",
       "      <th>1496</th>\n",
       "      <td>0</td>\n",
       "      <td>1</td>\n",
       "      <td>0</td>\n",
       "    </tr>\n",
       "    <tr>\n",
       "      <th>3294</th>\n",
       "      <td>0</td>\n",
       "      <td>1</td>\n",
       "      <td>0</td>\n",
       "    </tr>\n",
       "    <tr>\n",
       "      <th>8732</th>\n",
       "      <td>0</td>\n",
       "      <td>1</td>\n",
       "      <td>0</td>\n",
       "    </tr>\n",
       "  </tbody>\n",
       "</table>\n",
       "</div>"
      ],
      "text/plain": [
       "      PHYS  NPNMW  TIMEMD\n",
       "600      0      1       0\n",
       "602      0      1       0\n",
       "1491     0      1       0\n",
       "1496     0      1       0\n",
       "3294     0      1       0\n",
       "8732     0      1       0"
      ]
     },
     "execution_count": 90,
     "metadata": {},
     "output_type": "execute_result"
    }
   ],
   "source": [
    "df.query('PHYS==0 & NPNMW==1').loc[:,('PHYS','NPNMW','TIMEMD')]"
   ]
  },
  {
   "cell_type": "code",
   "execution_count": 23,
   "id": "668ea063",
   "metadata": {},
   "outputs": [],
   "source": [
    "pd.set_option('max_rows', None)"
   ]
  },
  {
   "cell_type": "code",
   "execution_count": 14,
   "id": "66b69edb",
   "metadata": {},
   "outputs": [
    {
     "name": "stdout",
     "output_type": "stream",
     "text": [
      "('Phys_Total', 9826)\n",
      "('PhysASST_Total', 327)\n",
      "('NPNMN_Total', 173)\n"
     ]
    }
   ],
   "source": [
    "PHYS_Total = 'Phys_Total',df['PHYS'].sum()\n",
    "PHYSASST_Total = 'PhysASST_Total',df['PHYSASST'].sum()\n",
    "NPNMW_Total = 'NPNMN_Total',df['NPNMW'].sum()\n",
    "print (PHYS_Total)\n",
    "print (PHYSASST_Total)\n",
    "print (NPNMW_Total)"
   ]
  },
  {
   "cell_type": "code",
   "execution_count": null,
   "id": "85a60f9d",
   "metadata": {},
   "outputs": [],
   "source": []
  },
  {
   "cell_type": "code",
   "execution_count": null,
   "id": "f8bb6b75",
   "metadata": {},
   "outputs": [],
   "source": []
  },
  {
   "cell_type": "code",
   "execution_count": null,
   "id": "ad03e72f",
   "metadata": {},
   "outputs": [],
   "source": []
  },
  {
   "cell_type": "code",
   "execution_count": null,
   "id": "a6e3c73c",
   "metadata": {},
   "outputs": [],
   "source": []
  }
 ],
 "metadata": {
  "kernelspec": {
   "display_name": "Python 3 (ipykernel)",
   "language": "python",
   "name": "python3"
  },
  "language_info": {
   "codemirror_mode": {
    "name": "ipython",
    "version": 3
   },
   "file_extension": ".py",
   "mimetype": "text/x-python",
   "name": "python",
   "nbconvert_exporter": "python",
   "pygments_lexer": "ipython3",
   "version": "3.9.7"
  }
 },
 "nbformat": 4,
 "nbformat_minor": 5
}
